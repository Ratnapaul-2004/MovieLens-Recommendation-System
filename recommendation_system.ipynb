{
 "cells": [
  {
   "cell_type": "markdown",
   "id": "813194c4-18f6-499f-a5bf-c3087494f81e",
   "metadata": {},
   "source": [
    "# 1. Import Libraries"
   ]
  },
  {
   "cell_type": "code",
   "execution_count": 1,
   "id": "e7e26e5d-395d-435c-8b2b-2e98b51e9d07",
   "metadata": {},
   "outputs": [],
   "source": [
    "import pandas as pd\n",
    "import numpy as np\n",
    "import matplotlib.pyplot as plt\n",
    "import seaborn as sns"
   ]
  },
  {
   "cell_type": "code",
   "execution_count": 2,
   "id": "25dd4a2f-f59b-4174-8574-2c76bee60791",
   "metadata": {},
   "outputs": [],
   "source": [
    "from sklearn.metrics.pairwise import cosine_similarity\n",
    "from sklearn.decomposition import NMF, TruncatedSVD\n",
    "from sklearn.feature_extraction.text import TfidfVectorizer\n",
    "from sklearn.metrics import mean_squared_error, mean_absolute_error"
   ]
  },
  {
   "cell_type": "markdown",
   "id": "eb6d404a-2bb4-4ca9-a244-d491c65c310a",
   "metadata": {},
   "source": [
    "# 2. Load Dataset "
   ]
  },
  {
   "cell_type": "code",
   "execution_count": 13,
   "id": "528fcd84-3428-4a1b-83b8-1599d1c065ba",
   "metadata": {},
   "outputs": [
    {
     "name": "stdout",
     "output_type": "stream",
     "text": [
      "C:\\Users\\user\n"
     ]
    }
   ],
   "source": [
    "import os\n",
    "print(os.getcwd())"
   ]
  },
  {
   "cell_type": "code",
   "execution_count": 15,
   "id": "8216fc21-278a-4d3b-beaa-377e20703466",
   "metadata": {},
   "outputs": [
    {
     "name": "stdout",
     "output_type": "stream",
     "text": [
      "['.android', '.arduinoIDE', '.bash_history', '.cache', '.conda', '.condarc', '.config', '.continuum', '.gitconfig', '.gradle', '.idlerc', '.ipynb_checkpoints', '.ipython', '.jupyter', '.lesshst', '.m2', '.matplotlib', '.ms-ad', '.node_repl_history', '.redhat', '.rest-client', '.spyder-py3', '.streamlit', '.VirtualBox', '.vscode', 'anaconda3', 'AndroidStudioProjects', 'AppData', 'Application Data', 'armstrongnumber.c', 'armstrongnumber.exe', 'asciistring.c', 'c program', 'c program.txt', 'compstring.c', 'compstring.exe', 'Contacts', 'Cookies', 'Desktop', 'Documents', 'Downloads', 'duplicateentriesofarray.c', 'duplicateentriesofarray.exe', 'ETL_Movie.ipynb', 'Favorites', 'hello.c', 'hello.exe', 'html tutorial', 'html.code-workspace', 'IdeaProjects', 'index.html', 'IntelGraphicsProfiles', 'Links', 'Local Settings', 'Movie Recommendation System.ipynb', 'movielens', 'Music', 'My Documents', 'NetHood', 'new,py', 'NTUSER.DAT', 'ntuser.dat.LOG1', 'ntuser.dat.LOG2', 'NTUSER.DAT{b3fe01ca-d8f6-11ef-8438-010101010000}.TM.blf', 'NTUSER.DAT{b3fe01ca-d8f6-11ef-8438-010101010000}.TMContainer00000000000000000001.regtrans-ms', 'NTUSER.DAT{b3fe01ca-d8f6-11ef-8438-010101010000}.TMContainer00000000000000000002.regtrans-ms', 'ntuser.ini', 'OneDrive', 'output.c', 'output.exe', 'polynomial addition', 'PrintHood', 'Python Data Science', 'queue.c', 'queue.exe', 'Recent', 'reversestring.c', 'reversestring.exe', 'Saved Games', 'Searches', 'SendTo', 'Shopping Trends Analysis', 'Start Menu', 'string.c', 'string.exe', 'sum,meanarray.c', 'Templates']\n"
     ]
    }
   ],
   "source": [
    "import os\n",
    "print(os.listdir())"
   ]
  },
  {
   "cell_type": "code",
   "execution_count": 16,
   "id": "7042b7a4-827b-43db-b469-b767de9e98df",
   "metadata": {},
   "outputs": [
    {
     "name": "stdout",
     "output_type": "stream",
     "text": [
      "   userId  movieId  rating  timestamp\n",
      "0       1        1     4.0  964982703\n",
      "1       1        3     4.0  964981247\n",
      "2       1        6     4.0  964982224\n",
      "3       1       47     5.0  964983815\n",
      "4       1       50     5.0  964982931\n",
      "   movieId                               title  \\\n",
      "0        1                    Toy Story (1995)   \n",
      "1        2                      Jumanji (1995)   \n",
      "2        3             Grumpier Old Men (1995)   \n",
      "3        4            Waiting to Exhale (1995)   \n",
      "4        5  Father of the Bride Part II (1995)   \n",
      "\n",
      "                                        genres  \n",
      "0  Adventure|Animation|Children|Comedy|Fantasy  \n",
      "1                   Adventure|Children|Fantasy  \n",
      "2                               Comedy|Romance  \n",
      "3                         Comedy|Drama|Romance  \n",
      "4                                       Comedy  \n"
     ]
    }
   ],
   "source": [
    "ratings = pd.read_csv(\"movielens/ml-latest-small/ratings.csv\")\n",
    "movies = pd.read_csv(\"movielens/ml-latest-small/movies.csv\")\n",
    "\n",
    "print(ratings.head())\n",
    "print(movies.head())"
   ]
  },
  {
   "cell_type": "markdown",
   "id": "ab67337d-26ca-4f40-9364-dbeaf0237177",
   "metadata": {},
   "source": [
    "# 3. Data Cleaning"
   ]
  },
  {
   "cell_type": "code",
   "execution_count": 17,
   "id": "8ed8e699-34e3-47c7-a66f-ec012b3a13c5",
   "metadata": {},
   "outputs": [
    {
     "name": "stdout",
     "output_type": "stream",
     "text": [
      "Missing values: 0\n"
     ]
    }
   ],
   "source": [
    "print(\"Missing values:\", ratings.isnull().sum().sum() + movies.isnull().sum().sum())"
   ]
  },
  {
   "cell_type": "code",
   "execution_count": 19,
   "id": "ac3f5618-288a-4d00-9fcd-3ecec51f95e7",
   "metadata": {},
   "outputs": [
    {
     "data": {
      "text/html": [
       "<div>\n",
       "<style scoped>\n",
       "    .dataframe tbody tr th:only-of-type {\n",
       "        vertical-align: middle;\n",
       "    }\n",
       "\n",
       "    .dataframe tbody tr th {\n",
       "        vertical-align: top;\n",
       "    }\n",
       "\n",
       "    .dataframe thead th {\n",
       "        text-align: right;\n",
       "    }\n",
       "</style>\n",
       "<table border=\"1\" class=\"dataframe\">\n",
       "  <thead>\n",
       "    <tr style=\"text-align: right;\">\n",
       "      <th></th>\n",
       "      <th>userId</th>\n",
       "      <th>movieId</th>\n",
       "      <th>rating</th>\n",
       "      <th>timestamp</th>\n",
       "      <th>title</th>\n",
       "      <th>genres</th>\n",
       "    </tr>\n",
       "  </thead>\n",
       "  <tbody>\n",
       "    <tr>\n",
       "      <th>0</th>\n",
       "      <td>1</td>\n",
       "      <td>1</td>\n",
       "      <td>4.0</td>\n",
       "      <td>964982703</td>\n",
       "      <td>Toy Story (1995)</td>\n",
       "      <td>Adventure|Animation|Children|Comedy|Fantasy</td>\n",
       "    </tr>\n",
       "    <tr>\n",
       "      <th>1</th>\n",
       "      <td>1</td>\n",
       "      <td>3</td>\n",
       "      <td>4.0</td>\n",
       "      <td>964981247</td>\n",
       "      <td>Grumpier Old Men (1995)</td>\n",
       "      <td>Comedy|Romance</td>\n",
       "    </tr>\n",
       "    <tr>\n",
       "      <th>2</th>\n",
       "      <td>1</td>\n",
       "      <td>6</td>\n",
       "      <td>4.0</td>\n",
       "      <td>964982224</td>\n",
       "      <td>Heat (1995)</td>\n",
       "      <td>Action|Crime|Thriller</td>\n",
       "    </tr>\n",
       "    <tr>\n",
       "      <th>3</th>\n",
       "      <td>1</td>\n",
       "      <td>47</td>\n",
       "      <td>5.0</td>\n",
       "      <td>964983815</td>\n",
       "      <td>Seven (a.k.a. Se7en) (1995)</td>\n",
       "      <td>Mystery|Thriller</td>\n",
       "    </tr>\n",
       "    <tr>\n",
       "      <th>4</th>\n",
       "      <td>1</td>\n",
       "      <td>50</td>\n",
       "      <td>5.0</td>\n",
       "      <td>964982931</td>\n",
       "      <td>Usual Suspects, The (1995)</td>\n",
       "      <td>Crime|Mystery|Thriller</td>\n",
       "    </tr>\n",
       "  </tbody>\n",
       "</table>\n",
       "</div>"
      ],
      "text/plain": [
       "   userId  movieId  rating  timestamp                        title  \\\n",
       "0       1        1     4.0  964982703             Toy Story (1995)   \n",
       "1       1        3     4.0  964981247      Grumpier Old Men (1995)   \n",
       "2       1        6     4.0  964982224                  Heat (1995)   \n",
       "3       1       47     5.0  964983815  Seven (a.k.a. Se7en) (1995)   \n",
       "4       1       50     5.0  964982931   Usual Suspects, The (1995)   \n",
       "\n",
       "                                        genres  \n",
       "0  Adventure|Animation|Children|Comedy|Fantasy  \n",
       "1                               Comedy|Romance  \n",
       "2                        Action|Crime|Thriller  \n",
       "3                             Mystery|Thriller  \n",
       "4                       Crime|Mystery|Thriller  "
      ]
     },
     "execution_count": 19,
     "metadata": {},
     "output_type": "execute_result"
    }
   ],
   "source": [
    "# Merge datasets\n",
    "df = ratings.merge(movies, on=\"movieId\")\n",
    "df.head()"
   ]
  },
  {
   "cell_type": "markdown",
   "id": "eb17be67-a0ba-4b01-92c6-e3d5ffaac633",
   "metadata": {},
   "source": [
    "# 4. Exploratory Data Analysis (EDA)"
   ]
  },
  {
   "cell_type": "code",
   "execution_count": 20,
   "id": "51af7a8e-0f0c-4a00-82d6-78f80e6d5ce6",
   "metadata": {},
   "outputs": [
    {
     "data": {
      "image/png": "[encoded data removed]",
      "text/plain": [
       "<Figure size 600x400 with 1 Axes>"
      ]
     },
     "metadata": {},
     "output_type": "display_data"
    }
   ],
   "source": [
    "plt.figure(figsize=(6,4))\n",
    "ratings['rating'].hist(bins=10)\n",
    "plt.title(\"Ratings Distribution\")\n",
    "plt.show()"
   ]
  },
  {
   "cell_type": "code",
   "execution_count": 21,
   "id": "d9c9b250-ac28-4b5f-a662-39bf56a78c85",
   "metadata": {},
   "outputs": [
    {
     "data": {
      "text/plain": [
       "<Axes: title={'center': 'Most Rated Movies'}, ylabel='title'>"
      ]
     },
     "execution_count": 21,
     "metadata": {},
     "output_type": "execute_result"
    },
    {
     "data": {
      "image/png": "[encoded data removed]",
      "text/plain": [
       "<Figure size 640x480 with 1 Axes>"
      ]
     },
     "metadata": {},
     "output_type": "display_data"
    }
   ],
   "source": [
    "top_movies = df.groupby(\"title\")['rating'].count().sort_values(ascending=False).head(10)\n",
    "top_movies.plot(kind='barh', title=\"Most Rated Movies\")"
   ]
  },
  {
   "cell_type": "markdown",
   "id": "20b079aa-160f-4810-8d25-7f1b738af7b3",
   "metadata": {},
   "source": [
    "# 5. Collaborative Filtering"
   ]
  },
  {
   "cell_type": "code",
   "execution_count": 22,
   "id": "1a049a44-34d4-4946-bf10-6186d40ea924",
   "metadata": {},
   "outputs": [],
   "source": [
    "# 5.1 User-Item Matrix\n",
    "user_item_matrix = ratings.pivot(index='userId', columns='movieId', values='rating').fillna(0)"
   ]
  },
  {
   "cell_type": "code",
   "execution_count": 23,
   "id": "275855db-0e59-4105-85d0-594d4074ffef",
   "metadata": {},
   "outputs": [
    {
     "name": "stdout",
     "output_type": "stream",
     "text": [
      "User-User similarity matrix shape: (610, 610)\n"
     ]
    }
   ],
   "source": [
    "# 5.2 User-User Similarity\n",
    "user_sim = cosine_similarity(user_item_matrix)\n",
    "print(\"User-User similarity matrix shape:\", user_sim.shape)"
   ]
  },
  {
   "cell_type": "code",
   "execution_count": 24,
   "id": "f5796b7a-b167-4f32-b527-f3d29421d011",
   "metadata": {},
   "outputs": [
    {
     "name": "stderr",
     "output_type": "stream",
     "text": [
      "C:\\Anaconda DS\\Lib\\site-packages\\sklearn\\decomposition\\_nmf.py:1759: ConvergenceWarning: Maximum number of iterations 200 reached. Increase it to improve convergence.\n",
      "  warnings.warn(\n",
      "C:\\Anaconda DS\\Lib\\site-packages\\sklearn\\metrics\\_regression.py:492: FutureWarning: 'squared' is deprecated in version 1.4 and will be removed in 1.6. To calculate the root mean squared error, use the function'root_mean_squared_error'.\n",
      "  warnings.warn(\n"
     ]
    },
    {
     "name": "stdout",
     "output_type": "stream",
     "text": [
      "NMF RMSE: 0.2555008947821109\n"
     ]
    }
   ],
   "source": [
    "# 5.3 Matrix Factorization (NMF)\n",
    "nmf = NMF(n_components=20, random_state=42)\n",
    "W = nmf.fit_transform(user_item_matrix)\n",
    "H = nmf.components_\n",
    "pred = np.dot(W, H)\n",
    "\n",
    "rmse = mean_squared_error(user_item_matrix, pred, squared=False)\n",
    "print(\"NMF RMSE:\", rmse)"
   ]
  },
  {
   "cell_type": "markdown",
   "id": "b8c093d5-76f5-438c-b817-290fc327f5d8",
   "metadata": {},
   "source": [
    "# 6. Content-Based Filtering"
   ]
  },
  {
   "cell_type": "code",
   "execution_count": 25,
   "id": "ef4172b0-82ce-4f76-8561-caa04093c98c",
   "metadata": {},
   "outputs": [
    {
     "name": "stdout",
     "output_type": "stream",
     "text": [
      "1706                                       Antz (1998)\n",
      "2355                                Toy Story 2 (1999)\n",
      "2809    Adventures of Rocky and Bullwinkle, The (2000)\n",
      "3000                  Emperor's New Groove, The (2000)\n",
      "3568                             Monsters, Inc. (2001)\n",
      "Name: title, dtype: object\n"
     ]
    }
   ],
   "source": [
    "tfidf = TfidfVectorizer(stop_words='english')\n",
    "tfidf_matrix = tfidf.fit_transform(movies['genres'])\n",
    "\n",
    "cosine_sim = cosine_similarity(tfidf_matrix, tfidf_matrix)\n",
    "\n",
    "def recommend_content(movie_title, top_n=5):\n",
    "    idx = movies[movies['title'] == movie_title].index[0]\n",
    "    sim_scores = list(enumerate(cosine_sim[idx]))\n",
    "    sim_scores = sorted(sim_scores, key=lambda x: x[1], reverse=True)[1:top_n+1]\n",
    "    movie_indices = [i[0] for i in sim_scores]\n",
    "    return movies['title'].iloc[movie_indices]\n",
    "\n",
    "print(recommend_content(\"Toy Story (1995)\"))"
   ]
  },
  {
   "cell_type": "markdown",
   "id": "f00945d7-43ce-4183-b14a-d0fd3ca1a316",
   "metadata": {},
   "source": [
    "# 7. Hybrid Recommendation"
   ]
  },
  {
   "cell_type": "code",
   "execution_count": 26,
   "id": "f243c66b-d4dd-4dae-b73c-6e7363fb26ce",
   "metadata": {},
   "outputs": [
    {
     "name": "stdout",
     "output_type": "stream",
     "text": [
      "Hybrid Recommendations for User 1:\n",
      "224            Star Wars: Episode IV - A New Hope (1977)\n",
      "507                    Terminator 2: Judgment Day (1991)\n",
      "898    Star Wars: Episode V - The Empire Strikes Back...\n",
      "900    Raiders of the Lost Ark (Indiana Jones and the...\n",
      "911    Star Wars: Episode VI - Return of the Jedi (1983)\n",
      "Name: title, dtype: object\n"
     ]
    }
   ],
   "source": [
    "def hybrid_recommend(user_id, top_n=5):\n",
    "    # Get NMF predictions for this user\n",
    "    user_idx = user_id - 1\n",
    "    user_ratings = pred[user_idx]\n",
    "    \n",
    "    # Rank top movies by predicted score\n",
    "    top_indices = np.argsort(user_ratings)[::-1][:top_n]\n",
    "    \n",
    "    return movies[movies['movieId'].isin(user_item_matrix.columns[top_indices])]['title']\n",
    "\n",
    "print(\"Hybrid Recommendations for User 1:\")\n",
    "print(hybrid_recommend(1))"
   ]
  },
  {
   "cell_type": "markdown",
   "id": "00418528-cec5-4266-8e4d-5c9b258be357",
   "metadata": {},
   "source": [
    "# 8. Evaluation"
   ]
  },
  {
   "cell_type": "code",
   "execution_count": 30,
   "id": "af17b429-6229-4239-a149-8fd677b5904e",
   "metadata": {},
   "outputs": [
    {
     "name": "stdout",
     "output_type": "stream",
     "text": [
      "MAE: 0.0804288260235261\n"
     ]
    }
   ],
   "source": [
    "# 8.1 Mean Absolute Error \n",
    "mae = mean_absolute_error(user_item_matrix, pred)\n",
    "print(\"MAE:\", mae)"
   ]
  },
  {
   "cell_type": "code",
   "execution_count": 31,
   "id": "3302007c-44ce-48fe-bb6e-6da24fcea133",
   "metadata": {},
   "outputs": [],
   "source": [
    "# 8.2 Extended with Precision@K\n",
    "def precision_at_k(pred_matrix, true_matrix, k=5, threshold=4.0):\n",
    "    \"\"\"\n",
    "    Compute Precision@K for recommendations\n",
    "    pred_matrix: predicted ratings (numpy array)\n",
    "    true_matrix: actual ratings (numpy array)\n",
    "    k: top-k items to consider\n",
    "    threshold: rating threshold to consider as relevant\n",
    "    \"\"\"\n",
    "    precisions = []\n",
    "    \n",
    "    for user_idx in range(true_matrix.shape[0]):\n",
    "        # Skip users with no ratings\n",
    "        if np.count_nonzero(true_matrix[user_idx]) == 0:\n",
    "            continue\n",
    "        \n",
    "        # Top-K predictions\n",
    "        top_k_pred_items = np.argsort(pred_matrix[user_idx])[::-1][:k]\n",
    "        \n",
    "        # Relevant items (actual rating >= threshold)\n",
    "        relevant_items = np.where(true_matrix[user_idx] >= threshold)[0]\n",
    "        \n",
    "        if len(relevant_items) == 0:\n",
    "            continue\n",
    "        \n",
    "        hits = len(set(top_k_pred_items) & set(relevant_items))\n",
    "        precisions.append(hits / k)\n",
    "    \n",
    "    return np.mean(precisions)"
   ]
  },
  {
   "cell_type": "code",
   "execution_count": 32,
   "id": "5eb32707-142f-4a60-94af-4b08aa71f47a",
   "metadata": {},
   "outputs": [],
   "source": [
    "# Convert matrix to numpy for evaluation\n",
    "true_matrix = user_item_matrix.to_numpy()"
   ]
  },
  {
   "cell_type": "code",
   "execution_count": 39,
   "id": "dc767b8e-610f-4f3d-a467-acbabbb615a7",
   "metadata": {},
   "outputs": [
    {
     "name": "stderr",
     "output_type": "stream",
     "text": [
      "C:\\Anaconda DS\\Lib\\site-packages\\sklearn\\metrics\\_regression.py:492: FutureWarning: 'squared' is deprecated in version 1.4 and will be removed in 1.6. To calculate the root mean squared error, use the function'root_mean_squared_error'.\n",
      "  warnings.warn(\n"
     ]
    }
   ],
   "source": [
    "# --- NMF Evaluation --- \n",
    "rmse_nmf = mean_squared_error(true_matrix, pred, squared=False)\n",
    "mae_nmf = mean_absolute_error(true_matrix, pred)\n",
    "p5_nmf = precision_at_k(pred, true_matrix, k=5)\n",
    "p10_nmf = precision_at_k(pred, true_matrix, k=10)"
   ]
  },
  {
   "cell_type": "code",
   "execution_count": 40,
   "id": "22597b76-9e5f-433b-a039-81124cf2a042",
   "metadata": {},
   "outputs": [
    {
     "name": "stderr",
     "output_type": "stream",
     "text": [
      "C:\\Anaconda DS\\Lib\\site-packages\\sklearn\\metrics\\_regression.py:492: FutureWarning: 'squared' is deprecated in version 1.4 and will be removed in 1.6. To calculate the root mean squared error, use the function'root_mean_squared_error'.\n",
      "  warnings.warn(\n"
     ]
    }
   ],
   "source": [
    "# --- User-based CF Evaluation ---\n",
    "user_pred = user_sim.dot(user_item_matrix) / np.array([np.abs(user_sim).sum(axis=1)]).T\n",
    "user_pred = np.array(user_pred)\n",
    "\n",
    "rmse_user = mean_squared_error(true_matrix, user_pred, squared=False)\n",
    "mae_user = mean_absolute_error(true_matrix, user_pred)\n",
    "p5_user = precision_at_k(user_pred, true_matrix, k=5)\n",
    "p10_user = precision_at_k(user_pred, true_matrix, k=10)"
   ]
  },
  {
   "cell_type": "code",
   "execution_count": 41,
   "id": "056d154f-2732-41a2-86b9-51ff561040db",
   "metadata": {},
   "outputs": [
    {
     "name": "stderr",
     "output_type": "stream",
     "text": [
      "C:\\Anaconda DS\\Lib\\site-packages\\sklearn\\metrics\\_regression.py:492: FutureWarning: 'squared' is deprecated in version 1.4 and will be removed in 1.6. To calculate the root mean squared error, use the function'root_mean_squared_error'.\n",
      "  warnings.warn(\n"
     ]
    }
   ],
   "source": [
    "# --- Item-based CF Evaluation ---\n",
    "item_sim = cosine_similarity(user_item_matrix.T)\n",
    "item_pred = user_item_matrix.dot(item_sim) / np.array([np.abs(item_sim).sum(axis=1)])\n",
    "item_pred = item_pred.to_numpy()\n",
    "\n",
    "rmse_item = mean_squared_error(true_matrix, item_pred, squared=False)\n",
    "mae_item = mean_absolute_error(true_matrix, item_pred)\n",
    "p5_item = precision_at_k(item_pred, true_matrix, k=5)\n",
    "p10_item = precision_at_k(item_pred, true_matrix, k=10)"
   ]
  },
  {
   "cell_type": "code",
   "execution_count": 42,
   "id": "6022b8cf-8f38-473d-a6d1-bdb59e8efddc",
   "metadata": {},
   "outputs": [
    {
     "name": "stdout",
     "output_type": "stream",
     "text": [
      "\n",
      "Evaluation Results:\n",
      "           Model      RMSE       MAE  Precision@5  Precision@10\n",
      "0            NMF  0.255501  0.080429     0.536289      0.492939\n",
      "1  User-based CF  0.324236  0.116136     0.514943      0.489819\n",
      "2  Item-based CF  0.331362  0.139706     0.163218      0.121839\n"
     ]
    }
   ],
   "source": [
    "# --- Summary Table ---\n",
    "results = pd.DataFrame({\n",
    "    \"Model\": [\"NMF\", \"User-based CF\", \"Item-based CF\"],\n",
    "    \"RMSE\": [rmse_nmf, rmse_user, rmse_item],\n",
    "    \"MAE\": [mae_nmf, mae_user, mae_item],\n",
    "    \"Precision@5\": [p5_nmf, p5_user, p5_item],\n",
    "    \"Precision@10\": [p10_nmf, p10_user, p10_item]\n",
    "})\n",
    "\n",
    "print(\"\\nEvaluation Results:\")\n",
    "print(results)"
   ]
  },
  {
   "cell_type": "markdown",
   "id": "b443f222-8efa-4679-bc40-e9af1547338b",
   "metadata": {},
   "source": [
    "# 9. Visualization of Recommendations"
   ]
  },
  {
   "cell_type": "code",
   "execution_count": 29,
   "id": "e70ad94f-d4de-408e-8488-a693bf568928",
   "metadata": {},
   "outputs": [
    {
     "data": {
      "image/png": "[encoded data removed]",
      "text/plain": [
       "<Figure size 640x480 with 2 Axes>"
      ]
     },
     "metadata": {},
     "output_type": "display_data"
    }
   ],
   "source": [
    "sns.heatmap(user_item_matrix.iloc[:20, :20], cmap=\"YlGnBu\")\n",
    "plt.title(\"Sample User-Item Matrix\")\n",
    "plt.show()"
   ]
  }
 ],
 "metadata": {
  "kernelspec": {
   "display_name": "Python 3 (ipykernel)",
   "language": "python",
   "name": "python3"
  },
  "language_info": {
   "codemirror_mode": {
    "name": "ipython",
    "version": 3
   },
   "file_extension": ".py",
   "mimetype": "text/x-python",
   "name": "python",
   "nbconvert_exporter": "python",
   "pygments_lexer": "ipython3",
   "version": "3.12.7"
  }
 },
 "nbformat": 4,
 "nbformat_minor": 5
}
